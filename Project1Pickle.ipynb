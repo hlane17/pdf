{
 "cells": [
  {
   "cell_type": "code",
   "execution_count": 1,
   "id": "cosmetic-mission",
   "metadata": {},
   "outputs": [],
   "source": [
    "import numpy as np\n",
    "import load_from_snapshot\n",
    "import h5py\n",
    "from matplotlib import pyplot as plt\n",
    "import pickle"
   ]
  },
  {
   "cell_type": "code",
   "execution_count": 11,
   "id": "shaped-extension",
   "metadata": {},
   "outputs": [],
   "source": [
    "fileName = \"sim\"\n",
    "TargetProperty = \"MachDist\"\n",
    "number = {}\n",
    "number[0] = 1000\n",
    "number[1] = 1000\n",
    "number[2] = 12800\n",
    "\n",
    "dict = {}\n",
    "MachDict = {}\n",
    "tenPercentFractionDict = {}\n",
    "\n",
    "for n in range(3): #Sets how many simulations to pickle\n",
    "    ext1 ='00'+str(n);\n",
    "    if (n>=10): ext1='0'+str(n)                                     #This resolves naming issues\n",
    "    if (n>=100): ext1=str(n)\n",
    "    datafolder = \"/home/hlane/gizmo-public/Project1/\" + fileName + ext1 + \"/output\"\n",
    "    F = h5py.File(datafolder + \"/snapshot_000.hdf5\", \"r\")\n",
    "    N = number[n]\n",
    "    \n",
    "    ids = np.array(F[\"PartType0\"][\"ParticleIDs\"])\n",
    "    gas_we_care_about = (ids<=N)\n",
    "    ids = ids[gas_we_care_about]\n",
    "    mgasInit = np.sum(np.array(F[\"PartType0\"][\"Masses\"])[ids]) #MassGas in snapshot 1\n",
    "    \n",
    "    Mach = []\n",
    "    tenPercentFraction = []\n",
    "    \n",
    "    dict[n] = {}\n",
    "    MachDict[n] = {}\n",
    "    tenPercentFractionDict[n] = {}\n",
    "    \n",
    "    for i in range(751): #This is for taking the FINAL Mach and Fraction#.\n",
    "\n",
    "        tenPercentList = []\n",
    "        ext='00'+str(i);\n",
    "        if (i>=10): ext='0'+str(i)                                     #This resolves naming issues\n",
    "        if (i>=100): ext=str(i)\n",
    "        f = h5py.File(datafolder + \"/snapshot_\" + ext + \".hdf5\", \"r\")  #opens file\n",
    "        try:\n",
    "            mStar = np.array(f[\"PartType5\"][\"Masses\"])     #reads file\n",
    "        except: \n",
    "            mStar = np.array([0])                #If there are no stars, the mass is zero.\n",
    "\n",
    "        for u in mStar:\n",
    "            if (10*u > mgasInit):\n",
    "                tenPercentList.append(u)\n",
    "        tenPercentFraction = (len(tenPercentList)/len(mStar))\n",
    "        #Finding mach number\n",
    "        cs = 200\n",
    "        alpha_turb = 1\n",
    "        alpha_B = 0.02 #What is this value used for lmao\n",
    "        G = 4301\n",
    "        f = h5py.File(datafolder + \"/snapshot_000.hdf5\", \"r\")\n",
    "        R = f[\"Header\"].attrs[\"BoxSize\"]/10                   #Returns correct value\n",
    "\n",
    "        Vrms = np.sqrt((0.6*G*mgasInit)/R)\n",
    "        Mach = Vrms / cs\n",
    "        \n",
    "        MachDict[n][i] = Mach\n",
    "        tenPercentFractionDict[n][i] = tenPercentFraction\n",
    "        dict[n] = [tenPercentFractionDict, MachDict]\n",
    "\n",
    "        F = open('pickle/' + fileName + \"_\" + TargetProperty + '.pickle','wb')\n",
    "        pickle.dump(dict[n], F)\n",
    "        \n",
    "    F.close()"
   ]
  },
  {
   "cell_type": "code",
   "execution_count": 13,
   "id": "lucky-moscow",
   "metadata": {},
   "outputs": [
    {
     "data": {
      "image/png": "[encoded data removed]",
      "text/plain": [
       "<Figure size 432x288 with 1 Axes>"
      ]
     },
     "metadata": {
      "needs_background": "light"
     },
     "output_type": "display_data"
    }
   ],
   "source": [
    "fileName = \"sim\"\n",
    "F=open('pickle/' + fileName + \"_\" + TargetProperty + '.pickle', \"rb\")\n",
    "temp = pickle.load(F)\n",
    "\n",
    "tenPercentFractionDict = temp[0]\n",
    "MachDict = temp[1]\n",
    "for n in range (0,3):\n",
    "    for i in range(194,195):\n",
    "        plt.scatter(MachDict[n][i],tenPercentFractionDict[n][i])\n",
    "F.close()\n",
    "plt.xlabel(\"Infall Mach Number \" + r\"($ℳ_{\\rm infall}\\rm$)\")\n",
    "plt.ylabel(\"Fraction of mass in large fragments (\" + r\"$M_{\\rm Sink}\\, \\rm > 0.1M_{\\rm cloud}$)\")\n",
    "plt.show()"
   ]
  },
  {
   "cell_type": "code",
   "execution_count": null,
   "id": "rolled-designation",
   "metadata": {},
   "outputs": [],
   "source": []
  }
 ],
 "metadata": {
  "kernelspec": {
   "display_name": "Python 3",
   "language": "python",
   "name": "python3"
  },
  "language_info": {
   "codemirror_mode": {
    "name": "ipython",
    "version": 3
   },
   "file_extension": ".py",
   "mimetype": "text/x-python",
   "name": "python",
   "nbconvert_exporter": "python",
   "pygments_lexer": "ipython3",
   "version": "3.8.5"
  }
 },
 "nbformat": 4,
 "nbformat_minor": 5
}
